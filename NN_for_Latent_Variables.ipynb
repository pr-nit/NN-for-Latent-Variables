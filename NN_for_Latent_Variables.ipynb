{
  "nbformat": 4,
  "nbformat_minor": 0,
  "metadata": {
    "colab": {
      "name": "NN-for-Latent-Variables.ipynb",
      "provenance": [],
      "authorship_tag": "ABX9TyObaQehas2I2sNDO/xIlOVX"
    },
    "kernelspec": {
      "name": "python3",
      "display_name": "Python 3"
    },
    "language_info": {
      "name": "python"
    }
  },
  "cells": [
    {
      "cell_type": "markdown",
      "metadata": {
        "id": "a8eVoKx9pBEi"
      },
      "source": [
        "# ニューラルネットワークによる２クラス識別\n",
        "２クラス識別問題をニューラルネットワークで解く。最終層が線形ロジスティック回帰を実現し、最終層に至る複数の層が特徴抽出する。シンプルな２クラス識別問題で、特徴空間への写像の様子を観察する。"
      ]
    },
    {
      "cell_type": "markdown",
      "metadata": {
        "id": "ezX-OH8Op0aF"
      },
      "source": [
        "# 1. モジュールの読み込み\n",
        "セル左上の三角形をクリックして実行してください。"
      ]
    },
    {
      "cell_type": "code",
      "metadata": {
        "id": "itXPUe0JCk6a"
      },
      "source": [
        "import matplotlib.pyplot as plt\n",
        "import numpy as np\n",
        "import array\n",
        "import keras\n",
        "from keras.models import Sequential\n",
        "from keras.layers import Conv2D\n",
        "from keras.layers import Dense, Activation, Input\n",
        "from keras import optimizers"
      ],
      "execution_count": null,
      "outputs": []
    },
    {
      "cell_type": "markdown",
      "metadata": {
        "id": "Pu7ahaFqp5JC"
      },
      "source": [
        "# 2.1 学習データと性能評価用データの生成\n",
        "以前の講義で利用したデータを用いることにする<p>\n",
        "セル左上の三角形をクリックして実行してください。"
      ]
    },
    {
      "cell_type": "code",
      "metadata": {
        "id": "CqiUyHpXDvSg"
      },
      "source": [
        "# 学習データの生成\n",
        "N = 100\n",
        "# クラス0はm0中心の正規分布\n",
        "m0 = [0,0]\n",
        "# クラス1はm1とm2中心の混合正規分布\n",
        "m1 = [-4,4]\n",
        "m2 = [4,-4]\n",
        "# どの正規分布も共分散は共通で\n",
        "Sigma = [[2,1],[1,2]]\n",
        "np.random.seed( seed = 20)\n",
        "# クラス0とクラス1のデータをぞれぞれN個ずつ生成\n",
        "N=100\n",
        "# x_0: 2次元の点がN個。y_0：それぞれの点のラベルはy=0\n",
        "x_0 = np.random.multivariate_normal( m0, Sigma, N)\n",
        "y_0 = np.zeros( len(x_0))\n",
        "# クラス1のデータをN個生成\n",
        "# x_1: 2次元の点がN個。y_1：それぞれの点のラベルはy=1\n",
        "x_11 = np.random.multivariate_normal( m1, Sigma, (int)(N/2))\n",
        "x_12 = np.random.multivariate_normal( m2, Sigma, (int)(N/2))\n",
        "x_1 = np.concatenate( [x_11,x_12], axis=0 )\n",
        "y_1 = np.ones( len( x_1 ))\n",
        "# 双方のクラスをまとめる\n",
        "x_train = np.concatenate([x_0, x_1], axis=0)\n",
        "y_train = np.concatenate([y_0, y_1], axis=0)\n",
        "\n",
        "# 評価用のデータも生成する\n",
        "# x_0: 2次元の点がN個。y_0：それぞれの点のラベルはy=0\n",
        "test_x_0 = np.random.multivariate_normal( m0, Sigma, N)\n",
        "test_y_0 = np.zeros( len(test_x_0))\n",
        "# クラス1のデータをN個生成\n",
        "# x_1: 2次元の点がN個。y_1：それぞれの点のラベルはy=1\n",
        "test_x_11 = np.random.multivariate_normal( m1, Sigma, (int)(N/2))\n",
        "test_x_12 = np.random.multivariate_normal( m2, Sigma, (int)(N/2))\n",
        "test_x_1 = np.concatenate( [test_x_11,test_x_12], axis=0 )\n",
        "test_y_1 = np.ones( len( test_x_1 ))\n",
        "# 双方のクラスをまとめる\n",
        "x_test = np.concatenate([test_x_0, test_x_1], axis=0)\n",
        "y_test = np.concatenate([test_y_0, test_y_1], axis=0)"
      ],
      "execution_count": null,
      "outputs": []
    },
    {
      "cell_type": "markdown",
      "metadata": {
        "id": "jci2BcYgqRtV"
      },
      "source": [
        "# 2.2 データ分布の可視化\n",
        "シンプルな線形識別では識別出来ない。適切な特徴空間への写像が必要。<p>\n",
        "セル左上の三角形をクリックして実行してください。"
      ]
    },
    {
      "cell_type": "code",
      "metadata": {
        "id": "mTq8Lj4lEvnN"
      },
      "source": [
        "# 生成したデータの表示\n",
        "plt.scatter( x_0[:,0], x_0[:,1])\n",
        "plt.scatter( x_1[:,0], x_1[:,1])"
      ],
      "execution_count": null,
      "outputs": []
    },
    {
      "cell_type": "markdown",
      "metadata": {
        "id": "C8jyIwtmqtnY"
      },
      "source": [
        "# 3. ニューラルネットワークの構築\n",
        "4層ニューラルネットワークを構築する。\n",
        "* 1層目：ニューロンは２つ。x座標とy座標をそれぞれに入力。\n",
        "* 2層目：ニューロンはZ_NUM個。活性化関数はReLU。\n",
        "* 3層目：ニューロンは（可視化しやすいように）2個。活性化関数はReLU\n",
        "* 4層目：最終層。ニューロンは1個。活性化関数はsigmoid関数。事後確率を回帰する。\n",
        "\n",
        "三角形をクリックし、セルを上から順に実行してください。\n",
        "* コスト関数は交差エントロピー関数（２クラスバージョン）\n",
        "* 最適化にはsgdを使う"
      ]
    },
    {
      "cell_type": "code",
      "metadata": {
        "id": "DPpyKDpDGMMb"
      },
      "source": [
        "# 2層目のニューロンの数\n",
        "Z_NUM = 3"
      ],
      "execution_count": null,
      "outputs": []
    },
    {
      "cell_type": "code",
      "metadata": {
        "id": "MT_rS57_GNSQ"
      },
      "source": [
        "# 層の構築\n",
        "model = Sequential()\n",
        "# 2層目の追加\n",
        "model.add(Dense(Z_NUM, activation = 'relu', input_dim = 2))\n",
        "# 3層目の追加（可視化しやすいように2個のニューロン)\n",
        "model.add(Dense(2, activation = 'relu'))\n",
        "# 最終層の追加\n",
        "model.add(Dense(1, activation = 'sigmoid'))\n",
        "# コスト関数(loss関数)と最適化法の指定\n",
        "model.compile( loss = 'binary_crossentropy', optimizer = 'sgd' )"
      ],
      "execution_count": null,
      "outputs": []
    },
    {
      "cell_type": "markdown",
      "metadata": {
        "id": "uIEifc0YsXwQ"
      },
      "source": [
        "# 3.1 ニューラルネットワークのパラメータの数\n",
        "**model.summary()** により構築したニューラルネットワークの概要を表示できる。上が入力側・下が出力側。Output Shapeの列を見ると各層のニューロンの数が分かる。\n",
        "バイアス項のための重みパラメータを忘れないように数える。\n",
        "* 第2層への結線：(入力(2)＋バイアス項(1))*Z_NUM\n",
        "* 第3層への結線：(Z_NUM + バイアス項(1))*第3層のニューロンの数(2)\n",
        "* 第4層への結線： (第3層のニューロンの数(2) + バイアス項(1))*第4層のニューロンの数(1)\n",
        "\n",
        "こんなに小さなニューラルネットワークでもパラメータ数が数十ある。"
      ]
    },
    {
      "cell_type": "code",
      "metadata": {
        "id": "zZc8Ohm7H86q"
      },
      "source": [
        "# ニューラルネットワークの構成の表示\n",
        "model.summary()"
      ],
      "execution_count": null,
      "outputs": []
    },
    {
      "cell_type": "markdown",
      "metadata": {
        "id": "-t1-hGGUxkH7"
      },
      "source": [
        "# 4. 学習\n",
        "下記セルを上から順に実行してください。EPOCH数1000のとき2〜3分ほどかかります。"
      ]
    },
    {
      "cell_type": "code",
      "metadata": {
        "id": "zPGtwpWiHALm"
      },
      "source": [
        "# 更新回数\n",
        "EPOCH = 1000\n",
        "# バッチの大きさ\n",
        "BATCH_SIZE = 5"
      ],
      "execution_count": null,
      "outputs": []
    },
    {
      "cell_type": "code",
      "metadata": {
        "id": "AbV6rXWHHSU6"
      },
      "source": [
        "###### 学習開始\n",
        "result = model.fit(x_train, y_train, epochs=EPOCH, batch_size = BATCH_SIZE)\n",
        "# score = model.evaluate(x_test, y_test, batch_size=16)\n",
        "print(result)"
      ],
      "execution_count": null,
      "outputs": []
    },
    {
      "cell_type": "markdown",
      "metadata": {
        "id": "KCGKPXMxzl4H"
      },
      "source": [
        "#4.1 学習過程の確認\n",
        "コスト関数が更新とともにどのように小さくなっていったかを確認する。"
      ]
    },
    {
      "cell_type": "code",
      "metadata": {
        "id": "SorJ8aoqJ4eL"
      },
      "source": [
        "# エポック数とコストのグラフ\n",
        "plt.plot(range(1, EPOCH+1), result.history['loss'], label=\"LOSS\")\n",
        "plt.xlabel('Epochs')\n",
        "plt.ylabel('LOSS')\n",
        "plt.legend()\n",
        "plt.show()"
      ],
      "execution_count": null,
      "outputs": []
    },
    {
      "cell_type": "markdown",
      "metadata": {
        "id": "QRfQcqt_zuMA"
      },
      "source": [
        "# 4.2 正答率の確認\n",
        "学習したニューラルネットワークが初見の評価用データをどの程度正確に識別するか確認する\n",
        "* **x_test** 評価用のデータ。2.1で生成した。学習データには含まれていない。\n",
        "* **model.predict** 学習済みのニューラルネットワークによる出力を計算\n",
        "* **y_result** ニューラルネットワークの出力（y=1となる事後確率）を四捨五入することで0 or 1の出力に翻訳したもの\n",
        "* 正解との比較により正答率を計算\n",
        "  * **diff** 正解と予測との差分\n",
        "  * **count_nonzero(diff==0)** 差分がゼロ（正解）の個数"
      ]
    },
    {
      "cell_type": "code",
      "metadata": {
        "id": "n8zjw6NdQ5aZ"
      },
      "source": [
        "# 学習済みのニューラルネットワークに新しいデータを入れて 0 or 1を出力する\n",
        "y_result = np.array([ float(i) for i in np.round(model.predict( x_test ))])\n",
        "diff = np.array( [int(i) for i in y_result - y_test] )\n",
        "print('正答率: ', np.count_nonzero( diff == 0 )/(N*2)*100, '%')"
      ],
      "execution_count": null,
      "outputs": []
    },
    {
      "cell_type": "markdown",
      "metadata": {
        "id": "7mV_Pd_r16a-"
      },
      "source": [
        "# 5 中間層の出力の可視化\n",
        "最終層の直前（第3層）の値を確認する\n",
        "* names[0], names[1], ...に、順に第2層、第3層、...の名前を格納する。\n",
        "* **keras.Model:** 構築したニューラルネットワーク(model)から入出力層を抽出する"
      ]
    },
    {
      "cell_type": "code",
      "metadata": {
        "id": "xKSkjAuWcYl1"
      },
      "source": [
        "# ニューラルネットワークの各層の名前を格納する\n",
        "names = [l.name for l in model.layers]\n",
        "# new_modelとして第3層（names[1])の出力をそのまま出すニューラルネットワークを新たに構築する\n",
        "new_model = keras.Model(inputs=model.input, outputs=model.get_layer(names[1]).output)"
      ],
      "execution_count": null,
      "outputs": []
    },
    {
      "cell_type": "markdown",
      "metadata": {
        "id": "c4g2L-NJ29mc"
      },
      "source": [
        "# 5.1 中間層の出力の取得\n",
        "* 学習用データを新規に構築したニューラルネットワーク(new_model)に入力\n",
        "* 出力を new_outputに格納\n",
        "\n",
        "**学習に成功していれば、クラス0とクラス1は線形分離出来るように分布するはず。**"
      ]
    },
    {
      "cell_type": "code",
      "metadata": {
        "id": "keJW0XdAZYHO"
      },
      "source": [
        "# クラス0のデータの第3層での値\n",
        "z_0 = new_model(x_0)\n",
        "# クラス1のデータの第3層での値\n",
        "z_1 = new_model(x_1)\n",
        "# グラフに分布をプロットする\n",
        "plt.scatter( z_0[:,0], z_0[:,1])\n",
        "plt.scatter( z_1[:,0], z_1[:,1])"
      ],
      "execution_count": null,
      "outputs": []
    },
    {
      "cell_type": "markdown",
      "metadata": {
        "id": "kqtqqApP38Qp"
      },
      "source": [
        "#6. 最終的に得られた識別境界の確認\n",
        "元の空間がどのように分割されたかを可視化する。\n",
        "\n",
        "**学習に成功していれば、クラス0とクラス1の間に境界線が引かれるはず。**"
      ]
    },
    {
      "cell_type": "code",
      "metadata": {
        "id": "OV1oSWSGejoh"
      },
      "source": [
        "# 描画領域の確定\n",
        "xmin = np.amin( x_train[:,0])\n",
        "xmax = np.amax( x_train[:,0])\n",
        "ymin = np.amin( x_train[:,1])\n",
        "ymax = np.amax( x_train[:,1])\n",
        "# 領域内にメッシュ生成\n",
        "u = np.arange( xmin, xmax, 0.1)\n",
        "v = np.arange( ymin, ymax, 0.1)\n",
        "U, V = np.meshgrid( u, v )\n",
        "# ニューラルネットワークに入力するために型変形\n",
        "u_flatten = U.flatten()\n",
        "v_flatten = V.flatten()\n",
        "uv_flatten= np.stack([u_flatten, v_flatten], 1)\n",
        "# 領域内に生成したメッシュ点それぞれの座標をニューラルネットワークに入力して出力計算\n",
        "all_predict = (model.predict( uv_flatten )).reshape(U.shape)\n",
        "# 識別境界（事後確率の回帰値が0.5)を描画する\n",
        "plt.scatter( x_0[:,0], x_0[:,1])\n",
        "plt.scatter( x_1[:,0], x_1[:,1])\n",
        "nn_predict = plt.contour(U, V, all_predict, levels=[0.5])\n",
        "nn_predict.clabel(fmt='%1.2f')"
      ],
      "execution_count": null,
      "outputs": []
    },
    {
      "cell_type": "markdown",
      "metadata": {
        "id": "jCWv9iwmSRgL"
      },
      "source": [
        "# 課題：下記それぞれの画像を保存し、Moodleの当該箇所に提出せよ。\n",
        "1.　 最初の一通りの実行結果のうち、次の画像を保存して当該箇所に提出せよ。\n",
        "* (1) 4.1「学習過程の確認」のグラフ\n",
        "* (2) 5.1 「中間層の出力の取得」の散布図\n",
        "* (3) 6.「最終的に得られた識別境界の確認」の散布図（境界線付き）\n",
        "2.　 3.「ニューラルネットワークの構築」の\"Z_NUM=3\"のセルから再度、順に最後まで実行せよ。実行するたびに中間層の出力が異なることが多い。ただし、中間層の出力は異なっていても、最終的な識別境界は似た結果になることが多い。\n",
        "* (1) 5.1 「中間層の出力の取得」の散布図\n",
        "* (2) 6.「最終的に得られた識別境界の確認」の散布図（境界線付き）\n",
        "3.　3.「ニューラルネットワークの構築」の最初のセルを Z_NUM=1に修正したのち、再度、順に最後まで実行せよ。中間層の表現能力が足りず、識別に失敗する。\n",
        "* (1) 4.1「学習過程の確認」のグラフ\n",
        "* (2) 5.1 「中間層の出力の取得」の散布図（一方のクラスの点が上書きされて見えなくなるかもしれないが気にしなくて良い）\n",
        "* (3) 6.「最終的に得られた識別境界の確認」の散布図（境界線付き）"
      ]
    }
  ]
}